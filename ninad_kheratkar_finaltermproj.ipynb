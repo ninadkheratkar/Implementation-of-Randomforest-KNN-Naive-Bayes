{
  "nbformat": 4,
  "nbformat_minor": 0,
  "metadata": {
    "colab": {
      "name": "ninad_kheratkar_finaltermproj.ipynb",
      "provenance": []
    },
    "kernelspec": {
      "name": "python3",
      "display_name": "Python 3"
    },
    "language_info": {
      "name": "python"
    }
  },
  "cells": [
    {
      "cell_type": "code",
      "metadata": {
        "id": "NWHboie38xBP"
      },
      "source": [
        "import pandas as pd\n",
        "import numpy as np\n",
        "from matplotlib import pyplot as plt\n",
        "import seaborn as sb"
      ],
      "execution_count": 78,
      "outputs": []
    },
    {
      "cell_type": "markdown",
      "metadata": {
        "id": "2bcsU3I7rGly"
      },
      "source": [
        "Import dataset"
      ]
    },
    {
      "cell_type": "code",
      "metadata": {
        "id": "gpVKf9OJqx7h"
      },
      "source": [
        "mydata = pd.read_csv(r'/content/diabetes.csv')"
      ],
      "execution_count": 79,
      "outputs": []
    },
    {
      "cell_type": "code",
      "metadata": {
        "colab": {
          "base_uri": "https://localhost:8080/",
          "height": 206
        },
        "id": "Bj1qWFjeq0f6",
        "outputId": "e2b2e6e9-af9e-465c-88fc-ba8480fd2625"
      },
      "source": [
        "mydata.sample(5)"
      ],
      "execution_count": 80,
      "outputs": [
        {
          "output_type": "execute_result",
          "data": {
            "text/html": [
              "<div>\n",
              "<style scoped>\n",
              "    .dataframe tbody tr th:only-of-type {\n",
              "        vertical-align: middle;\n",
              "    }\n",
              "\n",
              "    .dataframe tbody tr th {\n",
              "        vertical-align: top;\n",
              "    }\n",
              "\n",
              "    .dataframe thead th {\n",
              "        text-align: right;\n",
              "    }\n",
              "</style>\n",
              "<table border=\"1\" class=\"dataframe\">\n",
              "  <thead>\n",
              "    <tr style=\"text-align: right;\">\n",
              "      <th></th>\n",
              "      <th>Pregnancies</th>\n",
              "      <th>Glucose</th>\n",
              "      <th>BloodPressure</th>\n",
              "      <th>SkinThickness</th>\n",
              "      <th>Insulin</th>\n",
              "      <th>BMI</th>\n",
              "      <th>DiabetesPedigreeFunction</th>\n",
              "      <th>Age</th>\n",
              "      <th>Outcome</th>\n",
              "    </tr>\n",
              "  </thead>\n",
              "  <tbody>\n",
              "    <tr>\n",
              "      <th>383</th>\n",
              "      <td>1</td>\n",
              "      <td>90</td>\n",
              "      <td>62</td>\n",
              "      <td>18</td>\n",
              "      <td>59</td>\n",
              "      <td>25.1</td>\n",
              "      <td>1.268</td>\n",
              "      <td>25</td>\n",
              "      <td>0</td>\n",
              "    </tr>\n",
              "    <tr>\n",
              "      <th>381</th>\n",
              "      <td>0</td>\n",
              "      <td>105</td>\n",
              "      <td>68</td>\n",
              "      <td>22</td>\n",
              "      <td>0</td>\n",
              "      <td>20.0</td>\n",
              "      <td>0.236</td>\n",
              "      <td>22</td>\n",
              "      <td>0</td>\n",
              "    </tr>\n",
              "    <tr>\n",
              "      <th>348</th>\n",
              "      <td>3</td>\n",
              "      <td>99</td>\n",
              "      <td>62</td>\n",
              "      <td>19</td>\n",
              "      <td>74</td>\n",
              "      <td>21.8</td>\n",
              "      <td>0.279</td>\n",
              "      <td>26</td>\n",
              "      <td>0</td>\n",
              "    </tr>\n",
              "    <tr>\n",
              "      <th>592</th>\n",
              "      <td>3</td>\n",
              "      <td>132</td>\n",
              "      <td>80</td>\n",
              "      <td>0</td>\n",
              "      <td>0</td>\n",
              "      <td>34.4</td>\n",
              "      <td>0.402</td>\n",
              "      <td>44</td>\n",
              "      <td>1</td>\n",
              "    </tr>\n",
              "    <tr>\n",
              "      <th>7</th>\n",
              "      <td>10</td>\n",
              "      <td>115</td>\n",
              "      <td>0</td>\n",
              "      <td>0</td>\n",
              "      <td>0</td>\n",
              "      <td>35.3</td>\n",
              "      <td>0.134</td>\n",
              "      <td>29</td>\n",
              "      <td>0</td>\n",
              "    </tr>\n",
              "  </tbody>\n",
              "</table>\n",
              "</div>"
            ],
            "text/plain": [
              "     Pregnancies  Glucose  ...  Age  Outcome\n",
              "383            1       90  ...   25        0\n",
              "381            0      105  ...   22        0\n",
              "348            3       99  ...   26        0\n",
              "592            3      132  ...   44        1\n",
              "7             10      115  ...   29        0\n",
              "\n",
              "[5 rows x 9 columns]"
            ]
          },
          "metadata": {},
          "execution_count": 80
        }
      ]
    },
    {
      "cell_type": "code",
      "metadata": {
        "colab": {
          "base_uri": "https://localhost:8080/"
        },
        "id": "YCEII0whq7TQ",
        "outputId": "58fe3109-a77d-4dff-ab5d-45c4a6eacca3"
      },
      "source": [
        "mydata.shape"
      ],
      "execution_count": 81,
      "outputs": [
        {
          "output_type": "execute_result",
          "data": {
            "text/plain": [
              "(768, 9)"
            ]
          },
          "metadata": {},
          "execution_count": 81
        }
      ]
    },
    {
      "cell_type": "code",
      "metadata": {
        "colab": {
          "base_uri": "https://localhost:8080/"
        },
        "id": "gcS64Dbbq9Ps",
        "outputId": "c9f6a9d7-1213-46ab-8d81-436090cfe6a6"
      },
      "source": [
        "mydata.dtypes"
      ],
      "execution_count": 82,
      "outputs": [
        {
          "output_type": "execute_result",
          "data": {
            "text/plain": [
              "Pregnancies                   int64\n",
              "Glucose                       int64\n",
              "BloodPressure                 int64\n",
              "SkinThickness                 int64\n",
              "Insulin                       int64\n",
              "BMI                         float64\n",
              "DiabetesPedigreeFunction    float64\n",
              "Age                           int64\n",
              "Outcome                       int64\n",
              "dtype: object"
            ]
          },
          "metadata": {},
          "execution_count": 82
        }
      ]
    },
    {
      "cell_type": "markdown",
      "metadata": {
        "id": "TwaJ1tbMrCaD"
      },
      "source": [
        "Checking for null/missing data"
      ]
    },
    {
      "cell_type": "code",
      "metadata": {
        "colab": {
          "base_uri": "https://localhost:8080/",
          "height": 49
        },
        "id": "zYV-NhBPq-64",
        "outputId": "fd602b0c-640d-4461-9e41-943a3ab64f35"
      },
      "source": [
        "nl = pd.concat([mydata.isnull().sum()], axis = 1, keys = [\"Data\"])\n",
        "nl[nl.sum(axis=1) > 0]"
      ],
      "execution_count": 83,
      "outputs": [
        {
          "output_type": "execute_result",
          "data": {
            "text/html": [
              "<div>\n",
              "<style scoped>\n",
              "    .dataframe tbody tr th:only-of-type {\n",
              "        vertical-align: middle;\n",
              "    }\n",
              "\n",
              "    .dataframe tbody tr th {\n",
              "        vertical-align: top;\n",
              "    }\n",
              "\n",
              "    .dataframe thead th {\n",
              "        text-align: right;\n",
              "    }\n",
              "</style>\n",
              "<table border=\"1\" class=\"dataframe\">\n",
              "  <thead>\n",
              "    <tr style=\"text-align: right;\">\n",
              "      <th></th>\n",
              "      <th>Data</th>\n",
              "    </tr>\n",
              "  </thead>\n",
              "  <tbody>\n",
              "  </tbody>\n",
              "</table>\n",
              "</div>"
            ],
            "text/plain": [
              "Empty DataFrame\n",
              "Columns: [Data]\n",
              "Index: []"
            ]
          },
          "metadata": {},
          "execution_count": 83
        }
      ]
    },
    {
      "cell_type": "markdown",
      "metadata": {
        "id": "jCCh-QDVrLrq"
      },
      "source": [
        "Target variable"
      ]
    },
    {
      "cell_type": "code",
      "metadata": {
        "id": "V9EJ4wG5rNDh"
      },
      "source": [
        "x = mydata.iloc[:,0:7]\n",
        "\n",
        "y = mydata.iloc[:,8]"
      ],
      "execution_count": 84,
      "outputs": []
    },
    {
      "cell_type": "markdown",
      "metadata": {
        "id": "1-J8ApUmrXWA"
      },
      "source": [
        "import libraries for all models"
      ]
    },
    {
      "cell_type": "code",
      "metadata": {
        "id": "a5nKJq9NrTtq"
      },
      "source": [
        "from sklearn.neighbors import KNeighborsClassifier \n",
        "from sklearn.ensemble import RandomForestClassifier \n",
        "from sklearn import tree \n",
        "from sklearn.naive_bayes import GaussianNB #Naive Bayes Classification Algo.\n",
        "import matplotlib.pyplot as plt\n",
        "from sklearn.metrics import roc_auc_score\n",
        "from sklearn.metrics import confusion_matrix, accuracy_score, classification_report # To get models info.\n",
        "from sklearn.model_selection import train_test_split # To split data\n",
        "from sklearn.model_selection import cross_val_score\n"
      ],
      "execution_count": 85,
      "outputs": []
    },
    {
      "cell_type": "code",
      "metadata": {
        "colab": {
          "base_uri": "https://localhost:8080/"
        },
        "id": "_1-euP4nrbDZ",
        "outputId": "611502cc-07a1-4482-949b-7f34e1aa7fa8"
      },
      "source": [
        "#random forest\n",
        "def rnn(x,y):\n",
        "  X_train, X_test, y_train, y_test = train_test_split(x, y, test_size=0.2)\n",
        "  classifier = RandomForestClassifier(n_estimators=100)\n",
        "  classifier.fit(X_train,y_train)\n",
        "  y_pred = classifier.predict(X_test)\n",
        "  a = np.array(confusion_matrix(y_test,y_pred))\n",
        "  return a\n",
        "pass\n",
        "\n",
        "#KNeighborsClassifier\n",
        "def knn(x,y):\n",
        "\n",
        "  X_train, X_test, y_train, y_test = train_test_split(x, y, test_size=0.2)\n",
        "  model1 = KNeighborsClassifier()\n",
        "  learner = model1.fit(X_train,y_train)\n",
        "  y_pred = learner.predict(X_test)\n",
        "  a = np.array(confusion_matrix(y_test,y_pred))\n",
        "  return a\n",
        "pass\n",
        "\n",
        "#Naive Bayes\n",
        "def naive(x,y):\n",
        "  X_train, X_test, y_train, y_test = train_test_split(x, y, test_size=0.2)\n",
        "  gnb = GaussianNB() \n",
        "  gnb.fit(X_train, y_train)\n",
        "  y_pred = gnb.predict(X_test)\n",
        "  a = np.array(confusion_matrix(y_test,y_pred))\n",
        "  return a\n",
        "pass\n",
        "\n",
        "\n",
        "#calculate funciton to calculate all metrics\n",
        "\n",
        "def calculate(br):\n",
        "\n",
        "  #true positive\n",
        "\n",
        "  tp = br[1,1]\n",
        "\n",
        "  #true negative\n",
        "  tn = br[0,0]\n",
        "\n",
        "  #false negative\n",
        "  fn = br[1,0]\n",
        "\n",
        "  #false positve\n",
        "  fp = br[0,1]\n",
        "\n",
        "  #True positive rate\n",
        "  tpr = tp/(tp + fn)\n",
        "\n",
        "  #True negative rate\n",
        "  tnr = tn/(tn + fp)\n",
        "\n",
        "  #False positive rate\n",
        "  fpr = fp/(tn + fp)\n",
        "\n",
        "  #False negative rate\n",
        "  fnr = fn/(tp + fn)\n",
        "\n",
        "  #Recall\n",
        "  r = tp/(tp + fn)\n",
        "\n",
        "  #precision\n",
        "  p = tp/(tp + fp)\n",
        "\n",
        "  #f1\n",
        "  f1 = (2 * tp)/(2*(tp + fp + fn))\n",
        "\n",
        "  #accuracy\n",
        "  acc = (tp + tn)/(tp + fp + fn + tn)\n",
        "\n",
        "  #error rate\n",
        "  err = (fp + fn)/(tp + fp + fn + tn)\n",
        "  \n",
        "\n",
        "  df1 = pd.DataFrame({'Tp':[tp],'Tn':[tn],'Fp':[fp],'Fn':[fn],'Tpr':[tpr],'Tnr':[tnr],'Fpr':[fpr],'Fnr':[fnr],'Recall':[r],'Precision':[p],'F1':[f1],'Accuracy':[acc],'Error_rate':[err]})\n",
        "  return df1\n",
        "pass\n",
        "\n",
        "\n",
        "\n",
        "def average(df,type):\n",
        "  return pd.DataFrame({'Type':[type],'Tp':[df['Tp'].mean()],'Tn':[df['Tn'].mean()],'Fp':[df['Fp'].mean()],'Fn':[df['Fn'].mean()],'Tpr':[df['Tpr'].mean()],'Tnr':[df['Tnr'].mean()],'Fpr':[df['Fpr'].mean()],'Fnr':[df['Fnr'].mean()],'Recall':[df['Recall'].mean()],'Precision':[df['Precision'].mean()],'F1':[df['F1'].mean()],'Accuracy':[df['Accuracy'].mean()],'Error_rate':[df['Error_rate'].mean()]})\n",
        "pass\n",
        "\n",
        "df_random = pd.DataFrame({'Tp':[],'Tn':[],'Fp':[],'Fn':[],'Tpr':[],'Tnr':[],'Fpr':[],'Fnr':[],'Recall':[],'Precision':[],'F1':[],'Accuracy':[],'Error_rate':[]})\n",
        "\n",
        "df_knn = pd.DataFrame({'Tp':[],'Tn':[],'Fp':[],'Fn':[],'Tpr':[],'Tnr':[],'Fpr':[],'Fnr':[],'Recall':[],'Precision':[],'F1':[],'Accuracy':[],'Error_rate':[]})\n",
        "\n",
        "df_naive = pd.DataFrame({'Tp':[],'Tn':[],'Fp':[],'Fn':[],'Tpr':[],'Tnr':[],'Fpr':[],'Fnr':[],'Recall':[],'Precision':[],'F1':[],'Accuracy':[],'Error_rate':[]})\n",
        "\n",
        "for i in range(1,10):\n",
        "\n",
        "  a = rnn(x,y)\n",
        "  df_random = df_random.append(calculate(a),ignore_index=True)\n",
        "  b= knn(x,y)\n",
        "  df_knn = df_knn.append(calculate(b),ignore_index=True)\n",
        "  c = naive(x,y)\n",
        "  df_naive= df_naive.append(calculate(c),ignore_index=True)\n",
        "  \n",
        "\n",
        "\n",
        "final = pd.DataFrame({'Type':[],'Tp':[],'Tn':[],'Fp':[],'Fn':[],'Tpr':[],'Tnr':[],'Fpr':[],'Fnr':[],'Recall':[],'Precision':[],'F1':[],'Accuracy':[],'Error_rate':[]})\n",
        "\n",
        "\n",
        "\n",
        "final = final.append(average(df_knn,'Knn'),ignore_index=True)\n",
        "final.set_index('Type')\n",
        "final1 = final.append(average(df_random,'random'),ignore_index=True)\n",
        "final1.set_index('Type')\n",
        "final2 = final1.append(average(df_naive,'Naive'),ignore_index= True)\n",
        "print('Random Forest \\n',df_random)\n",
        "print('\\n\\n')\n",
        "print('Knn \\n',df_knn)\n",
        "print('\\n Naive Bayes\\n',df_naive)\n",
        "print('\\n\\n',final2)\n"
      ],
      "execution_count": 87,
      "outputs": [
        {
          "output_type": "stream",
          "name": "stdout",
          "text": [
            "Random Forest \n",
            "      Tp    Tn    Fp    Fn  ...  Precision        F1  Accuracy  Error_rate\n",
            "0  36.0  81.0  17.0  20.0  ...   0.679245  0.493151  0.759740    0.240260\n",
            "1  35.0  86.0  14.0  19.0  ...   0.714286  0.514706  0.785714    0.214286\n",
            "2  26.0  85.0  17.0  26.0  ...   0.604651  0.376812  0.720779    0.279221\n",
            "3  32.0  80.0  20.0  22.0  ...   0.615385  0.432432  0.727273    0.272727\n",
            "4  21.0  85.0  18.0  30.0  ...   0.538462  0.304348  0.688312    0.311688\n",
            "5  34.0  80.0  15.0  25.0  ...   0.693878  0.459459  0.740260    0.259740\n",
            "6  34.0  81.0  16.0  23.0  ...   0.680000  0.465753  0.746753    0.253247\n",
            "7  32.0  82.0  16.0  24.0  ...   0.666667  0.444444  0.740260    0.259740\n",
            "8  24.0  89.0   5.0  36.0  ...   0.827586  0.369231  0.733766    0.266234\n",
            "\n",
            "[9 rows x 13 columns]\n",
            "\n",
            "\n",
            "\n",
            "Knn \n",
            "      Tp    Tn    Fp    Fn  ...  Precision        F1  Accuracy  Error_rate\n",
            "0  24.0  77.0  21.0  32.0  ...   0.533333  0.311688  0.655844    0.344156\n",
            "1  27.0  79.0  26.0  22.0  ...   0.509434  0.360000  0.688312    0.311688\n",
            "2  21.0  85.0  22.0  26.0  ...   0.488372  0.304348  0.688312    0.311688\n",
            "3  24.0  77.0  21.0  32.0  ...   0.533333  0.311688  0.655844    0.344156\n",
            "4  36.0  75.0  21.0  22.0  ...   0.631579  0.455696  0.720779    0.279221\n",
            "5  28.0  81.0  20.0  25.0  ...   0.583333  0.383562  0.707792    0.292208\n",
            "6  28.0  85.0  11.0  30.0  ...   0.717949  0.405797  0.733766    0.266234\n",
            "7  29.0  89.0  13.0  23.0  ...   0.690476  0.446154  0.766234    0.233766\n",
            "8  29.0  87.0  14.0  24.0  ...   0.674419  0.432836  0.753247    0.246753\n",
            "\n",
            "[9 rows x 13 columns]\n",
            "\n",
            " Naive Bayes\n",
            "      Tp     Tn    Fp    Fn  ...  Precision        F1  Accuracy  Error_rate\n",
            "0  35.0   84.0  17.0  18.0  ...   0.673077  0.500000  0.772727    0.227273\n",
            "1  30.0  100.0  11.0  13.0  ...   0.731707  0.555556  0.844156    0.155844\n",
            "2  33.0   84.0  13.0  24.0  ...   0.717391  0.471429  0.759740    0.240260\n",
            "3  25.0   91.0  18.0  20.0  ...   0.581395  0.396825  0.753247    0.246753\n",
            "4  33.0   82.0  17.0  22.0  ...   0.660000  0.458333  0.746753    0.253247\n",
            "5  27.0   84.0  19.0  24.0  ...   0.586957  0.385714  0.720779    0.279221\n",
            "6  38.0   72.0  20.0  24.0  ...   0.655172  0.463415  0.714286    0.285714\n",
            "7  32.0   81.0  18.0  23.0  ...   0.640000  0.438356  0.733766    0.266234\n",
            "8  28.0   88.0   8.0  30.0  ...   0.777778  0.424242  0.753247    0.246753\n",
            "\n",
            "[9 rows x 13 columns]\n",
            "\n",
            "\n",
            "      Type         Tp         Tn  ...        F1  Accuracy  Error_rate\n",
            "0     Knn  27.333333  81.666667  ...  0.379085  0.707792    0.292208\n",
            "1  random  30.444444  83.222222  ...  0.428926  0.738095    0.261905\n",
            "2   Naive  31.222222  85.111111  ...  0.454874  0.755411    0.244589\n",
            "\n",
            "[3 rows x 14 columns]\n"
          ]
        }
      ]
    }
  ]
}